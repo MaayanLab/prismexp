{
 "cells": [
  {
   "cell_type": "markdown",
   "metadata": {},
   "source": [
    "# Run PrismEXP\n",
    "\n",
    "PrismEXP loads ARCHS4 data to predict novel gene annotations. There are 4 steps in order to create a PrismEXP prediction:\n",
    "\n",
    "- "
   ]
  },
  {
   "cell_type": "markdown",
   "metadata": {},
   "source": [
    "# Installing PrismEXP\n",
    "\n",
    "Install PrismEXP directly form GitHub. \n",
    "```\n",
    "pip install git+https://github.com/MaayanLab/prismexp.git\n",
    "```"
   ]
  },
  {
   "cell_type": "markdown",
   "metadata": {},
   "source": [
    "# Run PrismEXP using the Python package\n",
    "\n",
    "Running PrismEXP on your own computer is possible by using the PrismEXP package. There are some significant hardware requirements:\n",
    "\n",
    "- Sufficient hard disk space. Each correlation matrix can take up to 3GB. So when choosing number of clusters make sure there is enough space for them.\n",
    "- PrismEXP is fairly memory hungry since it is working with large correlation matrices. Ideally the system has 64GB. In some instances 32GB might be sufficent to run.\n",
    "- Compute time is significant, depending on the number of clusters chosen and number of available threads. PrismEXP relies heavily on multithreading and benefits from multiple cores."
   ]
  },
  {
   "cell_type": "code",
   "execution_count": null,
   "metadata": {},
   "outputs": [],
   "source": [
    "import urllib.request\n",
    "import prismx as px\n",
    "\n",
    "urllib.request.urlretrieve(\"https://s3.dev.maayanlab.cloud/archs4/archs4_gene_human_v2.1.2.h5\", \"human_matrix.h5\")\n",
    "\n",
    "work_dir = \"/home/maayanlab/code/prismexp\"\n",
    "h5_file = \"human_matrix.h5\"\n",
    "gmt_file = px.load_library(\"GO_Biological_Process_2021\")\n",
    "\n",
    "cluster_number = 100\n",
    "\n",
    "px.create_correlation_matrices(work_dir, h5_file, cluster_count=cluster_number, verbose=True)\n",
    "px.features(work_dir, gmt_file, threads=4, verbose=True)\n",
    "px.train(work_dir, gmt_file, verbose=True)\n",
    "px.predict(work_dir, gmt_file, verbose=True)"
   ]
  },
  {
   "cell_type": "markdown",
   "metadata": {},
   "source": [
    "# Reusing trained model\n",
    "\n",
    "The correlation matrices only have to be computed once. Also the model can be reused for other gene set libraries than it was trained on. The performance of the model might be higher when trained and used to predict on the same library. Overfitting is not really possible due to the nature of the machine learning approach of PrismEXP.\n",
    "\n",
    "To run the PrismEXP model on preexisting correlation matrices:\n",
    "1. Run `px.features()` function\n",
    "- builds feature matrices (sample number as clusters)\n",
    "2. Run `px.predict()` function\n",
    "- if not otherwise specified will use the existing model in the work directory\n",
    "\n",
    "To reuse the existing model only the features need to be rebuilt and the prediction applied for each new gene set library."
   ]
  },
  {
   "cell_type": "code",
   "execution_count": null,
   "metadata": {},
   "outputs": [],
   "source": [
    "import urllib.request\n",
    "import prismx as px\n",
    "\n",
    "work_dir = \"/home/maayanlab/code/prismexp\"\n",
    "gmt_file = px.load_library(\"KEGG_2021_Human\")\n",
    "\n",
    "px.features(work_dir, gmt_file, threads=4, verbose=True)\n",
    "px.predict(work_dir, gmt_file, verbose=True)"
   ]
  }
 ],
 "metadata": {
  "language_info": {
   "name": "python"
  },
  "orig_nbformat": 4
 },
 "nbformat": 4,
 "nbformat_minor": 2
}
